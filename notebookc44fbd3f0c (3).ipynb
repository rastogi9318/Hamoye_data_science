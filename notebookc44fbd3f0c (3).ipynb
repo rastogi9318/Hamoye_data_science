{
 "cells": [
  {
   "cell_type": "code",
   "execution_count": 1,
   "metadata": {
    "execution": {
     "iopub.execute_input": "2022-03-21T19:53:54.751793Z",
     "iopub.status.busy": "2022-03-21T19:53:54.751113Z",
     "iopub.status.idle": "2022-03-21T19:53:58.955494Z",
     "shell.execute_reply": "2022-03-21T19:53:58.954222Z",
     "shell.execute_reply.started": "2022-03-21T19:48:32.998478Z"
    },
    "papermill": {
     "duration": 4.230113,
     "end_time": "2022-03-21T19:53:58.955625",
     "exception": false,
     "start_time": "2022-03-21T19:53:54.725512",
     "status": "completed"
    },
    "tags": []
   },
   "outputs": [],
   "source": [
    "import os\n",
    "import numpy as np\n",
    "import pandas as pd\n",
    "from tensorflow import keras\n",
    "from keras.preprocessing.image import load_img\n",
    "from keras.preprocessing.image import img_to_array\n",
    "import keras.models as models\n",
    "import keras.layers as layers\n",
    "from keras import backend"
   ]
  },
  {
   "cell_type": "code",
   "execution_count": 2,
   "metadata": {
    "_cell_guid": "79c7e3d0-c299-4dcb-8224-4455121ee9b0",
    "_uuid": "d629ff2d2480ee46fbb7e2d37f6b5fab8052498a",
    "execution": {
     "iopub.execute_input": "2022-03-21T19:53:59.028738Z",
     "iopub.status.busy": "2022-03-21T19:53:59.028195Z",
     "iopub.status.idle": "2022-03-21T19:53:59.080105Z",
     "shell.execute_reply": "2022-03-21T19:53:59.079382Z",
     "shell.execute_reply.started": "2022-03-21T19:48:37.616011Z"
    },
    "papermill": {
     "duration": 0.091495,
     "end_time": "2022-03-21T19:53:59.080245",
     "exception": false,
     "start_time": "2022-03-21T19:53:58.988750",
     "status": "completed"
    },
    "tags": []
   },
   "outputs": [],
   "source": [
    "train_df=pd.read_csv('/kaggle/input/planet-understanding-the-amazon-from-space/train_v2.csv/train_v2.csv')"
   ]
  },
  {
   "cell_type": "code",
   "execution_count": 3,
   "metadata": {
    "execution": {
     "iopub.execute_input": "2022-03-21T19:53:59.131097Z",
     "iopub.status.busy": "2022-03-21T19:53:59.130490Z",
     "iopub.status.idle": "2022-03-21T19:53:59.138221Z",
     "shell.execute_reply": "2022-03-21T19:53:59.138644Z",
     "shell.execute_reply.started": "2022-03-21T19:48:37.676159Z"
    },
    "papermill": {
     "duration": 0.039012,
     "end_time": "2022-03-21T19:53:59.138755",
     "exception": false,
     "start_time": "2022-03-21T19:53:59.099743",
     "status": "completed"
    },
    "tags": []
   },
   "outputs": [
    {
     "data": {
      "text/html": [
       "<div>\n",
       "<style scoped>\n",
       "    .dataframe tbody tr th:only-of-type {\n",
       "        vertical-align: middle;\n",
       "    }\n",
       "\n",
       "    .dataframe tbody tr th {\n",
       "        vertical-align: top;\n",
       "    }\n",
       "\n",
       "    .dataframe thead th {\n",
       "        text-align: right;\n",
       "    }\n",
       "</style>\n",
       "<table border=\"1\" class=\"dataframe\">\n",
       "  <thead>\n",
       "    <tr style=\"text-align: right;\">\n",
       "      <th></th>\n",
       "      <th>image_name</th>\n",
       "      <th>tags</th>\n",
       "    </tr>\n",
       "  </thead>\n",
       "  <tbody>\n",
       "    <tr>\n",
       "      <th>0</th>\n",
       "      <td>train_0</td>\n",
       "      <td>haze primary</td>\n",
       "    </tr>\n",
       "    <tr>\n",
       "      <th>1</th>\n",
       "      <td>train_1</td>\n",
       "      <td>agriculture clear primary water</td>\n",
       "    </tr>\n",
       "    <tr>\n",
       "      <th>2</th>\n",
       "      <td>train_2</td>\n",
       "      <td>clear primary</td>\n",
       "    </tr>\n",
       "    <tr>\n",
       "      <th>3</th>\n",
       "      <td>train_3</td>\n",
       "      <td>clear primary</td>\n",
       "    </tr>\n",
       "    <tr>\n",
       "      <th>4</th>\n",
       "      <td>train_4</td>\n",
       "      <td>agriculture clear habitation primary road</td>\n",
       "    </tr>\n",
       "  </tbody>\n",
       "</table>\n",
       "</div>"
      ],
      "text/plain": [
       "  image_name                                       tags\n",
       "0    train_0                               haze primary\n",
       "1    train_1            agriculture clear primary water\n",
       "2    train_2                              clear primary\n",
       "3    train_3                              clear primary\n",
       "4    train_4  agriculture clear habitation primary road"
      ]
     },
     "execution_count": 3,
     "metadata": {},
     "output_type": "execute_result"
    }
   ],
   "source": [
    "train_df.head()"
   ]
  },
  {
   "cell_type": "code",
   "execution_count": 4,
   "metadata": {
    "execution": {
     "iopub.execute_input": "2022-03-21T19:53:59.183324Z",
     "iopub.status.busy": "2022-03-21T19:53:59.182582Z",
     "iopub.status.idle": "2022-03-21T19:53:59.186008Z",
     "shell.execute_reply": "2022-03-21T19:53:59.186415Z",
     "shell.execute_reply.started": "2022-03-21T19:48:37.695698Z"
    },
    "papermill": {
     "duration": 0.0278,
     "end_time": "2022-03-21T19:53:59.186524",
     "exception": false,
     "start_time": "2022-03-21T19:53:59.158724",
     "status": "completed"
    },
    "tags": []
   },
   "outputs": [
    {
     "data": {
      "text/plain": [
       "array(['haze primary', 'agriculture clear primary water', 'clear primary',\n",
       "       ..., 'agriculture clear primary', 'agriculture clear primary road',\n",
       "       'agriculture cultivation partly_cloudy primary'], dtype=object)"
      ]
     },
     "execution_count": 4,
     "metadata": {},
     "output_type": "execute_result"
    }
   ],
   "source": [
    "train_df['tags'].values"
   ]
  },
  {
   "cell_type": "code",
   "execution_count": 5,
   "metadata": {
    "execution": {
     "iopub.execute_input": "2022-03-21T19:53:59.232997Z",
     "iopub.status.busy": "2022-03-21T19:53:59.232499Z",
     "iopub.status.idle": "2022-03-21T19:53:59.263203Z",
     "shell.execute_reply": "2022-03-21T19:53:59.263979Z",
     "shell.execute_reply.started": "2022-03-21T19:48:37.704702Z"
    },
    "papermill": {
     "duration": 0.057382,
     "end_time": "2022-03-21T19:53:59.264086",
     "exception": false,
     "start_time": "2022-03-21T19:53:59.206704",
     "status": "completed"
    },
    "tags": []
   },
   "outputs": [],
   "source": [
    "test_df=pd.read_csv('/kaggle/input/planet-understanding-the-amazon-from-space/test_v2_file_mapping.csv/test_v2_file_mapping.csv')"
   ]
  },
  {
   "cell_type": "code",
   "execution_count": 6,
   "metadata": {
    "execution": {
     "iopub.execute_input": "2022-03-21T19:53:59.312162Z",
     "iopub.status.busy": "2022-03-21T19:53:59.311267Z",
     "iopub.status.idle": "2022-03-21T19:53:59.315672Z",
     "shell.execute_reply": "2022-03-21T19:53:59.315245Z",
     "shell.execute_reply.started": "2022-03-21T19:48:37.746557Z"
    },
    "papermill": {
     "duration": 0.031329,
     "end_time": "2022-03-21T19:53:59.315755",
     "exception": false,
     "start_time": "2022-03-21T19:53:59.284426",
     "status": "completed"
    },
    "tags": []
   },
   "outputs": [
    {
     "data": {
      "text/html": [
       "<div>\n",
       "<style scoped>\n",
       "    .dataframe tbody tr th:only-of-type {\n",
       "        vertical-align: middle;\n",
       "    }\n",
       "\n",
       "    .dataframe tbody tr th {\n",
       "        vertical-align: top;\n",
       "    }\n",
       "\n",
       "    .dataframe thead th {\n",
       "        text-align: right;\n",
       "    }\n",
       "</style>\n",
       "<table border=\"1\" class=\"dataframe\">\n",
       "  <thead>\n",
       "    <tr style=\"text-align: right;\">\n",
       "      <th></th>\n",
       "      <th>image_name</th>\n",
       "      <th>tags</th>\n",
       "    </tr>\n",
       "  </thead>\n",
       "  <tbody>\n",
       "    <tr>\n",
       "      <th>40474</th>\n",
       "      <td>train_40474</td>\n",
       "      <td>clear primary</td>\n",
       "    </tr>\n",
       "    <tr>\n",
       "      <th>40475</th>\n",
       "      <td>train_40475</td>\n",
       "      <td>cloudy</td>\n",
       "    </tr>\n",
       "    <tr>\n",
       "      <th>40476</th>\n",
       "      <td>train_40476</td>\n",
       "      <td>agriculture clear primary</td>\n",
       "    </tr>\n",
       "    <tr>\n",
       "      <th>40477</th>\n",
       "      <td>train_40477</td>\n",
       "      <td>agriculture clear primary road</td>\n",
       "    </tr>\n",
       "    <tr>\n",
       "      <th>40478</th>\n",
       "      <td>train_40478</td>\n",
       "      <td>agriculture cultivation partly_cloudy primary</td>\n",
       "    </tr>\n",
       "  </tbody>\n",
       "</table>\n",
       "</div>"
      ],
      "text/plain": [
       "        image_name                                           tags\n",
       "40474  train_40474                                  clear primary\n",
       "40475  train_40475                                         cloudy\n",
       "40476  train_40476                      agriculture clear primary\n",
       "40477  train_40477                 agriculture clear primary road\n",
       "40478  train_40478  agriculture cultivation partly_cloudy primary"
      ]
     },
     "execution_count": 6,
     "metadata": {},
     "output_type": "execute_result"
    }
   ],
   "source": [
    "train_df.tail()"
   ]
  },
  {
   "cell_type": "code",
   "execution_count": 7,
   "metadata": {
    "execution": {
     "iopub.execute_input": "2022-03-21T19:53:59.363288Z",
     "iopub.status.busy": "2022-03-21T19:53:59.362638Z",
     "iopub.status.idle": "2022-03-21T19:53:59.365654Z",
     "shell.execute_reply": "2022-03-21T19:53:59.365254Z",
     "shell.execute_reply.started": "2022-03-21T19:48:37.758670Z"
    },
    "papermill": {
     "duration": 0.029712,
     "end_time": "2022-03-21T19:53:59.365739",
     "exception": false,
     "start_time": "2022-03-21T19:53:59.336027",
     "status": "completed"
    },
    "tags": []
   },
   "outputs": [],
   "source": [
    "def tag_mapping(data):\n",
    "    labels=set()\n",
    "    for i in range(len(data)):\n",
    "        tags=data['tags'][i].split(' ')\n",
    "        labels.update(tags)\n",
    "    labels=list(labels)\n",
    "    labels.sort()\n",
    "    labels_dict={labels[i]:i for i in range(len(labels))}\n",
    "    inv_labels={i:labels[i] for i in range(len(labels))}\n",
    "    return labels_dict,inv_labels"
   ]
  },
  {
   "cell_type": "code",
   "execution_count": 8,
   "metadata": {
    "execution": {
     "iopub.execute_input": "2022-03-21T19:53:59.455541Z",
     "iopub.status.busy": "2022-03-21T19:53:59.454603Z",
     "iopub.status.idle": "2022-03-21T19:53:59.822329Z",
     "shell.execute_reply": "2022-03-21T19:53:59.821552Z",
     "shell.execute_reply.started": "2022-03-21T19:48:41.498635Z"
    },
    "papermill": {
     "duration": 0.424297,
     "end_time": "2022-03-21T19:53:59.822442",
     "exception": false,
     "start_time": "2022-03-21T19:53:59.398145",
     "status": "completed"
    },
    "tags": []
   },
   "outputs": [],
   "source": [
    "label_map,invmap=tag_mapping(train_df)"
   ]
  },
  {
   "cell_type": "code",
   "execution_count": 9,
   "metadata": {
    "execution": {
     "iopub.execute_input": "2022-03-21T19:53:59.868837Z",
     "iopub.status.busy": "2022-03-21T19:53:59.868103Z",
     "iopub.status.idle": "2022-03-21T19:53:59.870987Z",
     "shell.execute_reply": "2022-03-21T19:53:59.870579Z",
     "shell.execute_reply.started": "2022-03-21T19:48:43.808572Z"
    },
    "papermill": {
     "duration": 0.028076,
     "end_time": "2022-03-21T19:53:59.871075",
     "exception": false,
     "start_time": "2022-03-21T19:53:59.842999",
     "status": "completed"
    },
    "tags": []
   },
   "outputs": [],
   "source": [
    "def file_mapping(data):\n",
    "    mapping={}\n",
    "    for i in range(len(data)):\n",
    "        name,tags=train_df['image_name'][i],train_df['tags'][i]\n",
    "        mapping[name]=tags.split(' ')\n",
    "    return mapping"
   ]
  },
  {
   "cell_type": "code",
   "execution_count": 10,
   "metadata": {
    "execution": {
     "iopub.execute_input": "2022-03-21T19:53:59.917441Z",
     "iopub.status.busy": "2022-03-21T19:53:59.916696Z",
     "iopub.status.idle": "2022-03-21T19:53:59.919893Z",
     "shell.execute_reply": "2022-03-21T19:53:59.919349Z",
     "shell.execute_reply.started": "2022-03-21T19:48:46.279092Z"
    },
    "papermill": {
     "duration": 0.028475,
     "end_time": "2022-03-21T19:53:59.919980",
     "exception": false,
     "start_time": "2022-03-21T19:53:59.891505",
     "status": "completed"
    },
    "tags": []
   },
   "outputs": [],
   "source": [
    "def one_hot_encode(tags, mapping):\n",
    "    encoding = np.zeros(len(mapping), dtype='uint8')\n",
    "    for tag in tags:\n",
    "        encoding[mapping[tag]] = 1\n",
    "    return encoding"
   ]
  },
  {
   "cell_type": "code",
   "execution_count": 11,
   "metadata": {
    "execution": {
     "iopub.execute_input": "2022-03-21T19:53:59.968554Z",
     "iopub.status.busy": "2022-03-21T19:53:59.968002Z",
     "iopub.status.idle": "2022-03-21T19:53:59.971639Z",
     "shell.execute_reply": "2022-03-21T19:53:59.971227Z",
     "shell.execute_reply.started": "2022-03-21T19:48:48.518713Z"
    },
    "papermill": {
     "duration": 0.030321,
     "end_time": "2022-03-21T19:53:59.971725",
     "exception": false,
     "start_time": "2022-03-21T19:53:59.941404",
     "status": "completed"
    },
    "tags": []
   },
   "outputs": [],
   "source": [
    "def load_dataset(path,file_mapping,tag_mapping):\n",
    "    photos,targets=list(),list()\n",
    "    for filename in os.listdir(path):\n",
    "        photo=load_img(path+filename,target_size=(75,75))\n",
    "        photo=img_to_array(photo,dtype='uint8')\n",
    "        tags=file_mapping[filename[:-4]]\n",
    "        target=one_hot_encode(tags,tag_mapping)\n",
    "        photos.append(photo)\n",
    "        targets.append(target)\n",
    "    X=np.asarray(photos,dtype='uint8')\n",
    "    y=np.asarray(targets,dtype='uint8')\n",
    "    return X,y"
   ]
  },
  {
   "cell_type": "code",
   "execution_count": 12,
   "metadata": {
    "execution": {
     "iopub.execute_input": "2022-03-21T19:54:00.040504Z",
     "iopub.status.busy": "2022-03-21T19:54:00.025115Z",
     "iopub.status.idle": "2022-03-21T19:54:02.649663Z",
     "shell.execute_reply": "2022-03-21T19:54:02.649001Z"
    },
    "papermill": {
     "duration": 2.657607,
     "end_time": "2022-03-21T19:54:02.649817",
     "exception": true,
     "start_time": "2022-03-21T19:53:59.992210",
     "status": "failed"
    },
    "tags": []
   },
   "outputs": [
    {
     "ename": "FileNotFoundError",
     "evalue": "[Errno 2] No such file or directory: '../input/planets-dataset/planet/planet/train-jpgtrain_30370.jpg'",
     "output_type": "error",
     "traceback": [
      "\u001b[0;31m---------------------------------------------------------------------------\u001b[0m",
      "\u001b[0;31mFileNotFoundError\u001b[0m                         Traceback (most recent call last)",
      "\u001b[0;32m<ipython-input-12-8dbded9465d8>\u001b[0m in \u001b[0;36m<module>\u001b[0;34m\u001b[0m\n\u001b[1;32m      2\u001b[0m \u001b[0mfiles_mapping\u001b[0m\u001b[0;34m=\u001b[0m\u001b[0mfile_mapping\u001b[0m\u001b[0;34m(\u001b[0m\u001b[0mtrain_df\u001b[0m\u001b[0;34m)\u001b[0m\u001b[0;34m\u001b[0m\u001b[0;34m\u001b[0m\u001b[0m\n\u001b[1;32m      3\u001b[0m \u001b[0mpath\u001b[0m\u001b[0;34m=\u001b[0m\u001b[0;34m'../input/planets-dataset/planet/planet/train-jpg'\u001b[0m\u001b[0;34m\u001b[0m\u001b[0;34m\u001b[0m\u001b[0m\n\u001b[0;32m----> 4\u001b[0;31m \u001b[0mX\u001b[0m\u001b[0;34m,\u001b[0m\u001b[0my\u001b[0m\u001b[0;34m=\u001b[0m\u001b[0mload_dataset\u001b[0m\u001b[0;34m(\u001b[0m\u001b[0mpath\u001b[0m\u001b[0;34m,\u001b[0m\u001b[0mfiles_mapping\u001b[0m\u001b[0;34m,\u001b[0m\u001b[0mtags_mapping\u001b[0m\u001b[0;34m)\u001b[0m\u001b[0;34m\u001b[0m\u001b[0;34m\u001b[0m\u001b[0m\n\u001b[0m",
      "\u001b[0;32m<ipython-input-11-53f86fd3659e>\u001b[0m in \u001b[0;36mload_dataset\u001b[0;34m(path, file_mapping, tag_mapping)\u001b[0m\n\u001b[1;32m      2\u001b[0m     \u001b[0mphotos\u001b[0m\u001b[0;34m,\u001b[0m\u001b[0mtargets\u001b[0m\u001b[0;34m=\u001b[0m\u001b[0mlist\u001b[0m\u001b[0;34m(\u001b[0m\u001b[0;34m)\u001b[0m\u001b[0;34m,\u001b[0m\u001b[0mlist\u001b[0m\u001b[0;34m(\u001b[0m\u001b[0;34m)\u001b[0m\u001b[0;34m\u001b[0m\u001b[0;34m\u001b[0m\u001b[0m\n\u001b[1;32m      3\u001b[0m     \u001b[0;32mfor\u001b[0m \u001b[0mfilename\u001b[0m \u001b[0;32min\u001b[0m \u001b[0mos\u001b[0m\u001b[0;34m.\u001b[0m\u001b[0mlistdir\u001b[0m\u001b[0;34m(\u001b[0m\u001b[0mpath\u001b[0m\u001b[0;34m)\u001b[0m\u001b[0;34m:\u001b[0m\u001b[0;34m\u001b[0m\u001b[0;34m\u001b[0m\u001b[0m\n\u001b[0;32m----> 4\u001b[0;31m         \u001b[0mphoto\u001b[0m\u001b[0;34m=\u001b[0m\u001b[0mload_img\u001b[0m\u001b[0;34m(\u001b[0m\u001b[0mpath\u001b[0m\u001b[0;34m+\u001b[0m\u001b[0mfilename\u001b[0m\u001b[0;34m,\u001b[0m\u001b[0mtarget_size\u001b[0m\u001b[0;34m=\u001b[0m\u001b[0;34m(\u001b[0m\u001b[0;36m75\u001b[0m\u001b[0;34m,\u001b[0m\u001b[0;36m75\u001b[0m\u001b[0;34m)\u001b[0m\u001b[0;34m)\u001b[0m\u001b[0;34m\u001b[0m\u001b[0;34m\u001b[0m\u001b[0m\n\u001b[0m\u001b[1;32m      5\u001b[0m         \u001b[0mphoto\u001b[0m\u001b[0;34m=\u001b[0m\u001b[0mimg_to_array\u001b[0m\u001b[0;34m(\u001b[0m\u001b[0mphoto\u001b[0m\u001b[0;34m,\u001b[0m\u001b[0mdtype\u001b[0m\u001b[0;34m=\u001b[0m\u001b[0;34m'uint8'\u001b[0m\u001b[0;34m)\u001b[0m\u001b[0;34m\u001b[0m\u001b[0;34m\u001b[0m\u001b[0m\n\u001b[1;32m      6\u001b[0m         \u001b[0mtags\u001b[0m\u001b[0;34m=\u001b[0m\u001b[0mfile_mapping\u001b[0m\u001b[0;34m[\u001b[0m\u001b[0mfilename\u001b[0m\u001b[0;34m[\u001b[0m\u001b[0;34m:\u001b[0m\u001b[0;34m-\u001b[0m\u001b[0;36m4\u001b[0m\u001b[0;34m]\u001b[0m\u001b[0;34m]\u001b[0m\u001b[0;34m\u001b[0m\u001b[0;34m\u001b[0m\u001b[0m\n",
      "\u001b[0;32m/opt/conda/lib/python3.7/site-packages/tensorflow/python/keras/preprocessing/image.py\u001b[0m in \u001b[0;36mload_img\u001b[0;34m(path, grayscale, color_mode, target_size, interpolation)\u001b[0m\n\u001b[1;32m    299\u001b[0m   \"\"\"\n\u001b[1;32m    300\u001b[0m   return image.load_img(path, grayscale=grayscale, color_mode=color_mode,\n\u001b[0;32m--> 301\u001b[0;31m                         target_size=target_size, interpolation=interpolation)\n\u001b[0m\u001b[1;32m    302\u001b[0m \u001b[0;34m\u001b[0m\u001b[0m\n\u001b[1;32m    303\u001b[0m \u001b[0;34m\u001b[0m\u001b[0m\n",
      "\u001b[0;32m/opt/conda/lib/python3.7/site-packages/keras_preprocessing/image/utils.py\u001b[0m in \u001b[0;36mload_img\u001b[0;34m(path, grayscale, color_mode, target_size, interpolation)\u001b[0m\n\u001b[1;32m    111\u001b[0m         raise ImportError('Could not import PIL.Image. '\n\u001b[1;32m    112\u001b[0m                           'The use of `load_img` requires PIL.')\n\u001b[0;32m--> 113\u001b[0;31m     \u001b[0;32mwith\u001b[0m \u001b[0mopen\u001b[0m\u001b[0;34m(\u001b[0m\u001b[0mpath\u001b[0m\u001b[0;34m,\u001b[0m \u001b[0;34m'rb'\u001b[0m\u001b[0;34m)\u001b[0m \u001b[0;32mas\u001b[0m \u001b[0mf\u001b[0m\u001b[0;34m:\u001b[0m\u001b[0;34m\u001b[0m\u001b[0;34m\u001b[0m\u001b[0m\n\u001b[0m\u001b[1;32m    114\u001b[0m         \u001b[0mimg\u001b[0m \u001b[0;34m=\u001b[0m \u001b[0mpil_image\u001b[0m\u001b[0;34m.\u001b[0m\u001b[0mopen\u001b[0m\u001b[0;34m(\u001b[0m\u001b[0mio\u001b[0m\u001b[0;34m.\u001b[0m\u001b[0mBytesIO\u001b[0m\u001b[0;34m(\u001b[0m\u001b[0mf\u001b[0m\u001b[0;34m.\u001b[0m\u001b[0mread\u001b[0m\u001b[0;34m(\u001b[0m\u001b[0;34m)\u001b[0m\u001b[0;34m)\u001b[0m\u001b[0;34m)\u001b[0m\u001b[0;34m\u001b[0m\u001b[0;34m\u001b[0m\u001b[0m\n\u001b[1;32m    115\u001b[0m         \u001b[0;32mif\u001b[0m \u001b[0mcolor_mode\u001b[0m \u001b[0;34m==\u001b[0m \u001b[0;34m'grayscale'\u001b[0m\u001b[0;34m:\u001b[0m\u001b[0;34m\u001b[0m\u001b[0;34m\u001b[0m\u001b[0m\n",
      "\u001b[0;31mFileNotFoundError\u001b[0m: [Errno 2] No such file or directory: '../input/planets-dataset/planet/planet/train-jpgtrain_30370.jpg'"
     ]
    }
   ],
   "source": [
    "tags_mapping,_=tag_mapping(train_df)\n",
    "files_mapping=file_mapping(train_df)\n",
    "path='../input/planets-dataset/planet/planet/train-jpg'\n",
    "X,y=load_dataset(path,files_mapping,tags_mapping)"
   ]
  },
  {
   "cell_type": "code",
   "execution_count": null,
   "metadata": {
    "execution": {
     "iopub.execute_input": "2022-03-21T19:53:20.670085Z",
     "iopub.status.busy": "2022-03-21T19:53:20.669729Z",
     "iopub.status.idle": "2022-03-21T19:53:21.214867Z",
     "shell.execute_reply": "2022-03-21T19:53:21.214071Z",
     "shell.execute_reply.started": "2022-03-21T19:53:20.670049Z"
    },
    "papermill": {
     "duration": null,
     "end_time": null,
     "exception": null,
     "start_time": null,
     "status": "pending"
    },
    "tags": []
   },
   "outputs": [],
   "source": [
    "from sklearn.model_selection import train_test_split\n",
    "from sklearn.metrics import fbeta_score\n",
    "from tensorflow.keras.preprocessing.image import ImageDataGenerator\n",
    "from keras.optimizers import SGD\n",
    "from keras.optimizers import RMSprop"
   ]
  },
  {
   "cell_type": "code",
   "execution_count": null,
   "metadata": {
    "execution": {
     "iopub.execute_input": "2022-03-21T19:53:21.218527Z",
     "iopub.status.busy": "2022-03-21T19:53:21.217981Z",
     "iopub.status.idle": "2022-03-21T19:53:21.387040Z",
     "shell.execute_reply": "2022-03-21T19:53:21.386198Z",
     "shell.execute_reply.started": "2022-03-21T19:53:21.218486Z"
    },
    "papermill": {
     "duration": null,
     "end_time": null,
     "exception": null,
     "start_time": null,
     "status": "pending"
    },
    "tags": []
   },
   "outputs": [],
   "source": [
    "X_train, X_test, y_train, y_test = train_test_split(X, y, test_size=0.3, random_state=1)"
   ]
  },
  {
   "cell_type": "code",
   "execution_count": null,
   "metadata": {
    "execution": {
     "iopub.execute_input": "2022-03-21T19:53:21.404325Z",
     "iopub.status.busy": "2022-03-21T19:53:21.404016Z",
     "iopub.status.idle": "2022-03-21T19:53:21.414501Z",
     "shell.execute_reply": "2022-03-21T19:53:21.412853Z",
     "shell.execute_reply.started": "2022-03-21T19:53:21.404296Z"
    },
    "papermill": {
     "duration": null,
     "end_time": null,
     "exception": null,
     "start_time": null,
     "status": "pending"
    },
    "tags": []
   },
   "outputs": [],
   "source": [
    "def fbeta(y_true, y_pred, beta=2):\n",
    "    y_pred = backend.clip(y_pred, 0, 1)\n",
    "\n",
    "    tp = backend.sum(backend.round(backend.clip(y_true * y_pred, 0, 1)), axis=1)\n",
    "    fp = backend.sum(backend.round(backend.clip(y_pred - y_true, 0, 1)), axis=1)\n",
    "    fn = backend.sum(backend.round(backend.clip(y_true - y_pred, 0, 1)), axis=1)\n",
    "    p = tp / (tp + fp + backend.epsilon())\n",
    "    r = tp / (tp + fn + backend.epsilon())\n",
    "    bb = beta ** 2\n",
    "    fbeta_score = backend.mean((1 + bb) * (p * r) / (bb * p + r + backend.epsilon()))\n",
    "    return fbeta_score"
   ]
  },
  {
   "cell_type": "code",
   "execution_count": null,
   "metadata": {
    "execution": {
     "iopub.execute_input": "2022-03-21T19:53:27.193452Z",
     "iopub.status.busy": "2022-03-21T19:53:27.191228Z",
     "iopub.status.idle": "2022-03-21T19:53:30.170925Z",
     "shell.execute_reply": "2022-03-21T19:53:30.170144Z",
     "shell.execute_reply.started": "2022-03-21T19:53:27.193410Z"
    },
    "papermill": {
     "duration": null,
     "end_time": null,
     "exception": null,
     "start_time": null,
     "status": "pending"
    },
    "tags": []
   },
   "outputs": [],
   "source": [
    "from keras.applications import InceptionV3\n",
    "model=InceptionV3(input_shape=(75,75,3),include_top=False)\n",
    "for layer in model.layers:\n",
    "    layers.trainable=False\n",
    "last_layer=model.get_layer('mixed7')\n",
    "last_output=last_layer.output\n",
    "    \n",
    "x=layers.Flatten()(last_output)\n",
    "x=layers.Dense(1024,activation='relu')(x)\n",
    "x=layers.Dense(512,activation='relu')(x)\n",
    "x=layers.Dropout(0.2)(x)\n",
    "x=layers.Dense(17,activation='sigmoid')(x)\n",
    "model=models.Model(model.inputs,x)\n",
    "model.compile(optimizer=RMSprop(lr=0.0001),loss='binary_crossentropy',metrics=[fbeta])"
   ]
  },
  {
   "cell_type": "code",
   "execution_count": null,
   "metadata": {
    "execution": {
     "iopub.execute_input": "2022-03-21T19:53:30.173312Z",
     "iopub.status.busy": "2022-03-21T19:53:30.172813Z",
     "iopub.status.idle": "2022-03-21T19:53:30.178829Z",
     "shell.execute_reply": "2022-03-21T19:53:30.177717Z",
     "shell.execute_reply.started": "2022-03-21T19:53:30.173273Z"
    },
    "papermill": {
     "duration": null,
     "end_time": null,
     "exception": null,
     "start_time": null,
     "status": "pending"
    },
    "tags": []
   },
   "outputs": [],
   "source": [
    "train_datagen=ImageDataGenerator(rescale=1.0/255.0,horizontal_flip=True, vertical_flip=True, rotation_range=90)\n",
    "test_datagen=ImageDataGenerator(rescale=1.0/255.0)"
   ]
  },
  {
   "cell_type": "code",
   "execution_count": null,
   "metadata": {
    "execution": {
     "iopub.execute_input": "2022-03-21T19:53:30.180828Z",
     "iopub.status.busy": "2022-03-21T19:53:30.180271Z",
     "iopub.status.idle": "2022-03-21T19:53:30.842641Z",
     "shell.execute_reply": "2022-03-21T19:53:30.841823Z",
     "shell.execute_reply.started": "2022-03-21T19:53:30.180790Z"
    },
    "papermill": {
     "duration": null,
     "end_time": null,
     "exception": null,
     "start_time": null,
     "status": "pending"
    },
    "tags": []
   },
   "outputs": [],
   "source": [
    "train_gen=train_datagen.flow(X_train,y_train,batch_size=64)\n",
    "test_gen=test_datagen.flow(X_test,y_test,batch_size=64)"
   ]
  },
  {
   "cell_type": "code",
   "execution_count": null,
   "metadata": {
    "execution": {
     "iopub.execute_input": "2022-03-21T19:53:30.844561Z",
     "iopub.status.busy": "2022-03-21T19:53:30.844103Z"
    },
    "papermill": {
     "duration": null,
     "end_time": null,
     "exception": null,
     "start_time": null,
     "status": "pending"
    },
    "tags": []
   },
   "outputs": [],
   "source": [
    "history = model.fit(train_gen,steps_per_epoch=506,validation_data=test_gen, validation_steps=127, epochs=250, verbose=0)"
   ]
  },
  {
   "cell_type": "code",
   "execution_count": null,
   "metadata": {
    "papermill": {
     "duration": null,
     "end_time": null,
     "exception": null,
     "start_time": null,
     "status": "pending"
    },
    "tags": []
   },
   "outputs": [],
   "source": [
    "loss, fbeta =model.evaluate_generator(test_gen, steps=8, verbose=0)\n",
    "print('> loss=%.3f, fbeta=%.3f' % (loss, fbeta))"
   ]
  },
  {
   "cell_type": "code",
   "execution_count": null,
   "metadata": {
    "papermill": {
     "duration": null,
     "end_time": null,
     "exception": null,
     "start_time": null,
     "status": "pending"
    },
    "tags": []
   },
   "outputs": [],
   "source": [
    "history.history['fbeta']"
   ]
  },
  {
   "cell_type": "code",
   "execution_count": null,
   "metadata": {
    "papermill": {
     "duration": null,
     "end_time": null,
     "exception": null,
     "start_time": null,
     "status": "pending"
    },
    "tags": []
   },
   "outputs": [],
   "source": [
    "test_path_1='/kaggle/input/planets-dataset/planet/planet/test-jpg/'\n",
    "test_path_2='/kaggle/input/planets-dataset/test-jpg-additional/test-jpg-additional/'"
   ]
  },
  {
   "cell_type": "code",
   "execution_count": null,
   "metadata": {
    "papermill": {
     "duration": null,
     "end_time": null,
     "exception": null,
     "start_time": null,
     "status": "pending"
    },
    "tags": []
   },
   "outputs": [],
   "source": [
    "submission_df=pd.read_csv('/kaggle/input/planet-understanding-the-amazon-from-space/sample_submission_v2.csv/sample_submission_v2.csv')"
   ]
  },
  {
   "cell_type": "code",
   "execution_count": null,
   "metadata": {
    "papermill": {
     "duration": null,
     "end_time": null,
     "exception": null,
     "start_time": null,
     "status": "pending"
    },
    "tags": []
   },
   "outputs": [],
   "source": [
    "photo_test=[]\n",
    "for filename in submission_df['image_name']:\n",
    "    if filename[:1]=='t':\n",
    "        img=load_img(test_path_1+filename+'.jpg',target_size=(75,75))\n",
    "    elif filename[:1]=='f':\n",
    "        img=load_img(test_path_2+filename+'.jpg',target_size=(75,75))\n",
    "    ph=img_to_array(img,dtype='uint8')\n",
    "    photo_test.append(ph)"
   ]
  },
  {
   "cell_type": "code",
   "execution_count": null,
   "metadata": {
    "papermill": {
     "duration": null,
     "end_time": null,
     "exception": null,
     "start_time": null,
     "status": "pending"
    },
    "tags": []
   },
   "outputs": [],
   "source": [
    "test_x=np.asarray(photo_test,dtype='uint8')"
   ]
  },
  {
   "cell_type": "code",
   "execution_count": null,
   "metadata": {
    "papermill": {
     "duration": null,
     "end_time": null,
     "exception": null,
     "start_time": null,
     "status": "pending"
    },
    "tags": []
   },
   "outputs": [],
   "source": [
    "image_gen_test=ImageDataGenerator(rescale=1/255.0)\n",
    "test_data_gen=image_gen_test.flow(test_x,shuffle=False,batch_size=64)"
   ]
  },
  {
   "cell_type": "code",
   "execution_count": null,
   "metadata": {
    "papermill": {
     "duration": null,
     "end_time": null,
     "exception": null,
     "start_time": null,
     "status": "pending"
    },
    "tags": []
   },
   "outputs": [],
   "source": [
    "result=model.predict(test_data_gen)"
   ]
  },
  {
   "cell_type": "code",
   "execution_count": null,
   "metadata": {
    "papermill": {
     "duration": null,
     "end_time": null,
     "exception": null,
     "start_time": null,
     "status": "pending"
    },
    "tags": []
   },
   "outputs": [],
   "source": [
    "new_df=pd.DataFrame(result,columns=tags_mapping.keys())"
   ]
  },
  {
   "cell_type": "code",
   "execution_count": null,
   "metadata": {
    "papermill": {
     "duration": null,
     "end_time": null,
     "exception": null,
     "start_time": null,
     "status": "pending"
    },
    "tags": []
   },
   "outputs": [],
   "source": [
    "tags=new_df.columns\n",
    "pred_tags=new_df.apply(lambda x: ' '.join(tags[x>0.5]),axis=1)"
   ]
  },
  {
   "cell_type": "code",
   "execution_count": null,
   "metadata": {
    "papermill": {
     "duration": null,
     "end_time": null,
     "exception": null,
     "start_time": null,
     "status": "pending"
    },
    "tags": []
   },
   "outputs": [],
   "source": [
    "pred_tag=pd.DataFrame(pred_tags,columns=['tags'])"
   ]
  },
  {
   "cell_type": "code",
   "execution_count": null,
   "metadata": {
    "papermill": {
     "duration": null,
     "end_time": null,
     "exception": null,
     "start_time": null,
     "status": "pending"
    },
    "tags": []
   },
   "outputs": [],
   "source": [
    "submission_df['tags']=pred_tag['tags']"
   ]
  },
  {
   "cell_type": "code",
   "execution_count": null,
   "metadata": {
    "papermill": {
     "duration": null,
     "end_time": null,
     "exception": null,
     "start_time": null,
     "status": "pending"
    },
    "tags": []
   },
   "outputs": [],
   "source": [
    "submission_df.to_csv('attempt_4.csv',index=False)"
   ]
  },
  {
   "cell_type": "code",
   "execution_count": null,
   "metadata": {
    "papermill": {
     "duration": null,
     "end_time": null,
     "exception": null,
     "start_time": null,
     "status": "pending"
    },
    "tags": []
   },
   "outputs": [],
   "source": [
    "submission_df.head()"
   ]
  }
 ],
 "metadata": {
  "kernelspec": {
   "display_name": "Python 3",
   "language": "python",
   "name": "python3"
  },
  "language_info": {
   "codemirror_mode": {
    "name": "ipython",
    "version": 3
   },
   "file_extension": ".py",
   "mimetype": "text/x-python",
   "name": "python",
   "nbconvert_exporter": "python",
   "pygments_lexer": "ipython3",
   "version": "3.7.6"
  },
  "papermill": {
   "duration": 11.851953,
   "end_time": "2022-03-21T19:54:02.857376",
   "environment_variables": {},
   "exception": true,
   "input_path": "__notebook__.ipynb",
   "output_path": "__notebook__.ipynb",
   "parameters": {},
   "start_time": "2022-03-21T19:53:51.005423",
   "version": "2.1.0"
  }
 },
 "nbformat": 4,
 "nbformat_minor": 4
}
